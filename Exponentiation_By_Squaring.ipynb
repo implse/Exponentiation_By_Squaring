{
 "cells": [
  {
   "cell_type": "markdown",
   "metadata": {},
   "source": [
    "# Exponentiation By Squaring"
   ]
  },
  {
   "cell_type": "markdown",
   "metadata": {},
   "source": [
    "In mathematics and computer programming, exponentiation by squaring or binary exponentiation is a general method for fast computation of large positive integers power of a number. (wikipedia)\n",
    "\n",
    "Mathematical algorithms can noticeably improve number crunching performance."
   ]
  },
  {
   "cell_type": "markdown",
   "metadata": {},
   "source": [
    "Fast integer exponentiation is very important in cryptograpy."
   ]
  },
  {
   "cell_type": "markdown",
   "metadata": {},
   "source": [
    "### Basic Exponentiation"
   ]
  },
  {
   "cell_type": "markdown",
   "metadata": {},
   "source": [
    "If we want to compute $x^n$  we can have a naive implementation using multiplication.\n",
    "\n",
    "Raising `n` to the power of `e` is expressed as : $n^e = n * n * n ...$\n",
    "\n",
    "This approach is not pratical for large `n` or `e`.\n",
    "\n",
    "Time complexity : `O(n)`"
   ]
  },
  {
   "cell_type": "markdown",
   "metadata": {},
   "source": [
    "### Basic Implementation"
   ]
  },
  {
   "cell_type": "code",
   "execution_count": 1,
   "metadata": {
    "collapsed": true
   },
   "outputs": [],
   "source": [
    "def power_basic(number, exponent):\n",
    "    result = 1\n",
    "    for i in range(exponent):\n",
    "        result *= number\n",
    "    return result"
   ]
  },
  {
   "cell_type": "code",
   "execution_count": 2,
   "metadata": {
    "collapsed": false
   },
   "outputs": [
    {
     "name": "stdout",
     "output_type": "stream",
     "text": [
      "1\n",
      "2\n",
      "4\n",
      "8\n",
      "16\n",
      "32\n",
      "64\n",
      "128\n",
      "256\n",
      "512\n",
      "1024\n"
     ]
    }
   ],
   "source": [
    "# Test 1: 2 power i from 0 -> 10\n",
    "for i in range(11):\n",
    "    print(power_basic(2, i))\n",
    "    "
   ]
  },
  {
   "cell_type": "markdown",
   "metadata": {},
   "source": [
    "### Optimizations"
   ]
  },
  {
   "cell_type": "markdown",
   "metadata": {},
   "source": [
    "Consider computing : $a^n = a \\times a \\times a ... a^n $"
   ]
  },
  {
   "cell_type": "markdown",
   "metadata": {},
   "source": [
    "Can you produce same computation with fewer than $n - 1$ multiplications?"
   ]
  },
  {
   "cell_type": "markdown",
   "metadata": {},
   "source": [
    "Consider : $a^6 = (a\\times a\\times a)^2$"
   ]
  },
  {
   "cell_type": "markdown",
   "metadata": {},
   "source": [
    "Identify proper subproblem is the key to exponetiation by squaring. (reduce problem in half)"
   ]
  },
  {
   "cell_type": "markdown",
   "metadata": {},
   "source": [
    "## Exponentiation By Squaring"
   ]
  },
  {
   "cell_type": "markdown",
   "metadata": {},
   "source": [
    "Exponentiation by squaring allows to calculate an $x^n$ in `O(log(n))`. Very erffective on large numbers `n` or `e`.\n",
    "\n",
    "Since we divide the problem in half at each step, we get our `O(log(n))`algorithm."
   ]
  },
  {
   "cell_type": "markdown",
   "metadata": {},
   "source": [
    "### Recursive Implementation"
   ]
  },
  {
   "cell_type": "code",
   "execution_count": 3,
   "metadata": {
    "collapsed": false
   },
   "outputs": [],
   "source": [
    "def power_recursive(number, exponent):\n",
    "    \n",
    "    # base case\n",
    "    if exponent == 0:\n",
    "        return 1\n",
    "    if exponent == 1:\n",
    "        return number\n",
    "    \n",
    "    # Odd exponent\n",
    "    if exponent % 2 != 0:\n",
    "        return number * power_recursive(number * number, (exponent - 1) / 2)\n",
    "    # Even exponent\n",
    "    return power_recursive(number * number, exponent / 2)"
   ]
  },
  {
   "cell_type": "code",
   "execution_count": 4,
   "metadata": {
    "collapsed": false
   },
   "outputs": [
    {
     "name": "stdout",
     "output_type": "stream",
     "text": [
      "1\n",
      "2\n",
      "4\n",
      "8\n",
      "16\n",
      "32\n",
      "64\n",
      "128\n",
      "256\n",
      "512\n",
      "1024\n"
     ]
    }
   ],
   "source": [
    "# Test 1: 2 power i from 0 -> 10\n",
    "for i in range(11):\n",
    "    print(power_recursive(2, i))"
   ]
  },
  {
   "cell_type": "markdown",
   "metadata": {},
   "source": [
    "### Iterative Implementation"
   ]
  },
  {
   "cell_type": "markdown",
   "metadata": {},
   "source": [
    "- We assume that a >= 1 and b >= 0\n",
    "- Divide power by 2 and multiply base to itself (if the power is even)\n",
    "- Decrement power by 1 to make it even and then follow the first step"
   ]
  },
  {
   "cell_type": "code",
   "execution_count": 30,
   "metadata": {
    "collapsed": true
   },
   "outputs": [],
   "source": [
    "def power_iterative(number, exponent):\n",
    "    result = 1\n",
    "    while exponent > 0:\n",
    "        # If exponent is odd\n",
    "        if exponent % 2 == 1:\n",
    "            result = result * number\n",
    "\n",
    "        # Divide the exponent by 2\n",
    "        exponent = exponent // 2\n",
    "        number = number * number\n",
    "    return result"
   ]
  },
  {
   "cell_type": "code",
   "execution_count": 29,
   "metadata": {
    "collapsed": false
   },
   "outputs": [
    {
     "name": "stdout",
     "output_type": "stream",
     "text": [
      "1\n",
      "2\n",
      "4\n",
      "8\n",
      "16\n",
      "32\n",
      "64\n",
      "128\n",
      "256\n",
      "512\n",
      "1024\n"
     ]
    }
   ],
   "source": [
    "# Test 1: 2 power i from 0 -> 10\n",
    "for i in range(11):\n",
    "    print(power_iterative(2, i))\n"
   ]
  },
  {
   "cell_type": "markdown",
   "metadata": {
    "collapsed": true
   },
   "source": [
    "### Benchmarks"
   ]
  },
  {
   "cell_type": "code",
   "execution_count": 19,
   "metadata": {
    "collapsed": true
   },
   "outputs": [],
   "source": [
    "from time import time\n",
    "\n",
    "\n",
    "def compare(exponent):\n",
    "    number = 1000\n",
    "    timeN = timeR = 0\n",
    "    for e in range(exponent):\n",
    "        now = time()\n",
    "        recursive_exponentiation = power_recursive(number, e)\n",
    "        timeR += (time() - now)\n",
    "        \n",
    "        nom = time()\n",
    "        basic_exponentiation = power_basic(number, e)\n",
    "        timeN += (time() - now)\n",
    "        \n",
    "        if recursive_exponentiation != basic_exponentiation:\n",
    "            raise Exception(\"Invalid result\")\n",
    "    return (timeR, timeN)    "
   ]
  },
  {
   "cell_type": "code",
   "execution_count": 26,
   "metadata": {
    "collapsed": false
   },
   "outputs": [],
   "source": [
    "# Comparaisons table\n",
    "def table():\n",
    "    exponent = 2\n",
    "    while exponent < 4096:\n",
    "        result = compare(exponent)\n",
    "        print(exponent, \"\\t\", result[0], \"\\t\", result[1])\n",
    "        exponent *= 2\n",
    "    "
   ]
  },
  {
   "cell_type": "code",
   "execution_count": 27,
   "metadata": {
    "collapsed": false
   },
   "outputs": [
    {
     "name": "stdout",
     "output_type": "stream",
     "text": [
      "2 \t 2.1457672119140625e-06 \t 6.9141387939453125e-06\n",
      "4 \t 5.0067901611328125e-06 \t 1.5020370483398438e-05\n",
      "8 \t 1.2159347534179688e-05 \t 2.193450927734375e-05\n",
      "16 \t 2.5272369384765625e-05 \t 4.935264587402344e-05\n",
      "32 \t 6.175041198730469e-05 \t 0.00013327598571777344\n",
      "64 \t 0.00015854835510253906 \t 0.0003924369812011719\n",
      "128 \t 0.0004191398620605469 \t 0.0013451576232910156\n",
      "256 \t 0.0014133453369140625 \t 0.006012678146362305\n",
      "512 \t 0.005295991897583008 \t 0.030509471893310547\n",
      "1024 \t 0.02342391014099121 \t 0.17862820625305176\n",
      "2048 \t 0.13019704818725586 \t 1.0529379844665527\n"
     ]
    }
   ],
   "source": [
    "table()"
   ]
  }
 ],
 "metadata": {
  "kernelspec": {
   "display_name": "Python 3",
   "language": "python",
   "name": "python3"
  },
  "language_info": {
   "codemirror_mode": {
    "name": "ipython",
    "version": 3
   },
   "file_extension": ".py",
   "mimetype": "text/x-python",
   "name": "python",
   "nbconvert_exporter": "python",
   "pygments_lexer": "ipython3",
   "version": "3.6.0"
  }
 },
 "nbformat": 4,
 "nbformat_minor": 2
}
