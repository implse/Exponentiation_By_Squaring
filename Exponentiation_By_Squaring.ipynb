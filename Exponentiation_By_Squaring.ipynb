{
 "cells": [
  {
   "cell_type": "markdown",
   "metadata": {},
   "source": [
    "# Exponentiation By Squaring"
   ]
  },
  {
   "cell_type": "markdown",
   "metadata": {},
   "source": [
    "In mathematics and computer programming, exponentiation by squaring or binary exponentiation is a general method for fast computation of large positive integers power of a number. (wikipedia)\n",
    "\n",
    "Mathematical algorithms can noticeably improve number crunching performance."
   ]
  },
  {
   "cell_type": "markdown",
   "metadata": {},
   "source": [
    "Fast integer exponentiation is very important in cryptograpy."
   ]
  },
  {
   "cell_type": "markdown",
   "metadata": {},
   "source": [
    "### Basic Exponentiation"
   ]
  },
  {
   "cell_type": "markdown",
   "metadata": {},
   "source": [
    "If we want to compute $x^n$  we can have a naive implementation using multiplication.\n",
    "\n",
    "Raising `n` to the power of `e` is expressed as : $n^e = n * n * n ...$\n",
    "\n",
    "This approach is not pratical for large `n` or `e`.\n",
    "\n",
    "Time complexity : `O(n)`"
   ]
  },
  {
   "cell_type": "markdown",
   "metadata": {},
   "source": [
    "### Basic Implementation"
   ]
  },
  {
   "cell_type": "code",
   "execution_count": null,
   "metadata": {
    "collapsed": true
   },
   "outputs": [],
   "source": [
    "def power_basic(number, exponent):\n",
    "    result = 1\n",
    "    for i in range(exponent):\n",
    "        result *= number\n",
    "    return result"
   ]
  },
  {
   "cell_type": "code",
   "execution_count": null,
   "metadata": {
    "collapsed": false
   },
   "outputs": [],
   "source": [
    "# Test 1: 2 power i from 0 -> 10\n",
    "for i in range(11):\n",
    "    print(power_basic(2, i))\n",
    "    "
   ]
  },
  {
   "cell_type": "markdown",
   "metadata": {},
   "source": [
    "### Optimizations"
   ]
  },
  {
   "cell_type": "markdown",
   "metadata": {},
   "source": [
    "Consider computing : $a^n = a \\times a \\times a ... a^n $"
   ]
  },
  {
   "cell_type": "markdown",
   "metadata": {},
   "source": [
    "Can you produce same computation with fewer than $n - 1$ multiplications?"
   ]
  },
  {
   "cell_type": "markdown",
   "metadata": {},
   "source": [
    "Consider : $a^6 = (a\\times a\\times a)^2$"
   ]
  },
  {
   "cell_type": "markdown",
   "metadata": {},
   "source": [
    "Identify proper subproblem is the key to exponetiation by squaring. (reduce problem in half)"
   ]
  },
  {
   "cell_type": "markdown",
   "metadata": {},
   "source": [
    "## Exponentiation By Squaring"
   ]
  },
  {
   "cell_type": "markdown",
   "metadata": {},
   "source": [
    "Exponentiation by squaring allows to calculate an $x^n$ in `O(log(n))`. Very erffective on large numbers `n` or `e`.\n",
    "\n",
    "Since we divide the problem in half at each step, we get our `O(log(n))`algorithm."
   ]
  },
  {
   "cell_type": "markdown",
   "metadata": {},
   "source": [
    "### Recursive Implementation"
   ]
  },
  {
   "cell_type": "code",
   "execution_count": null,
   "metadata": {
    "collapsed": false
   },
   "outputs": [],
   "source": [
    "def power_recursive(number, exponent):\n",
    "    \n",
    "    # base case\n",
    "    if exponent == 0:\n",
    "        return 1\n",
    "    if exponent == 1:\n",
    "        return number\n",
    "    \n",
    "    # Odd exponent\n",
    "    if exponent % 2 != 0:\n",
    "        return number * power_recursive(number * number, (exponent - 1) / 2)\n",
    "    # Even exponent\n",
    "    return power_recursive(number * number, exponent / 2)"
   ]
  },
  {
   "cell_type": "code",
   "execution_count": null,
   "metadata": {
    "collapsed": false
   },
   "outputs": [],
   "source": [
    "# Test 1: 2 power i from 0 -> 10\n",
    "for i in range(11):\n",
    "    print(power_recursive(2, i))"
   ]
  },
  {
   "cell_type": "markdown",
   "metadata": {},
   "source": [
    "### Iterative Implementation"
   ]
  },
  {
   "cell_type": "code",
   "execution_count": null,
   "metadata": {
    "collapsed": true
   },
   "outputs": [],
   "source": [
    "def power_iterative(number, exponent):\n",
    "    if exponent < 0:\n",
    "        return 1 / power_iterative(number, exponent - 1)\n",
    "    result = 1\n",
    "    while exponent > 0:\n",
    "        if exponent % 2 == 1:\n",
    "            result = result * number\n",
    "        number = number * number\n",
    "        exponent = exponent / 2\n",
    "    return result"
   ]
  },
  {
   "cell_type": "code",
   "execution_count": null,
   "metadata": {
    "collapsed": false
   },
   "outputs": [],
   "source": [
    "# Test 1: 2 power i from 0 -> 10\n",
    "for i in range(11):\n",
    "    print(power_iterative(2, i))"
   ]
  },
  {
   "cell_type": "code",
   "execution_count": null,
   "metadata": {
    "collapsed": true
   },
   "outputs": [],
   "source": []
  }
 ],
 "metadata": {
  "kernelspec": {
   "display_name": "Python 3",
   "language": "python",
   "name": "python3"
  },
  "language_info": {
   "codemirror_mode": {
    "name": "ipython",
    "version": 3
   },
   "file_extension": ".py",
   "mimetype": "text/x-python",
   "name": "python",
   "nbconvert_exporter": "python",
   "pygments_lexer": "ipython3",
   "version": "3.6.0"
  }
 },
 "nbformat": 4,
 "nbformat_minor": 2
}
